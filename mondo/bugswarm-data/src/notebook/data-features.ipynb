{
 "cells": [
  {
   "cell_type": "markdown",
   "metadata": {},
   "source": [
    "## Data features\n"
   ]
  },
  {
   "cell_type": "code",
   "execution_count": 13,
   "metadata": {},
   "outputs": [
    {
     "name": "stdout",
     "output_type": "stream",
     "text": [
      "Loaded 4478 tasks\n"
     ]
    },
    {
     "ename": "FileNotFoundError",
     "evalue": "[Errno 2] No such file or directory: '/Users/mondo/Workspace/UW-Madison/CS561/project/mondo/bugswarm-data/data/exported/data.json'",
     "output_type": "error",
     "traceback": [
      "\u001b[0;31m---------------------------------------------------------------------------\u001b[0m",
      "\u001b[0;31mFileNotFoundError\u001b[0m                         Traceback (most recent call last)",
      "Cell \u001b[0;32mIn[13], line 26\u001b[0m\n\u001b[1;32m     24\u001b[0m data_src \u001b[38;5;241m=\u001b[39m load_artifact(art_path)\n\u001b[1;32m     25\u001b[0m \u001b[38;5;28mprint\u001b[39m(\u001b[38;5;124mf\u001b[39m\u001b[38;5;124m\"\u001b[39m\u001b[38;5;124mLoaded \u001b[39m\u001b[38;5;132;01m{\u001b[39;00m\u001b[38;5;28mlen\u001b[39m(data_src)\u001b[38;5;132;01m}\u001b[39;00m\u001b[38;5;124m tasks\u001b[39m\u001b[38;5;124m\"\u001b[39m)\n\u001b[0;32m---> 26\u001b[0m data_hunks \u001b[38;5;241m=\u001b[39m np\u001b[38;5;241m.\u001b[39mload(\n\u001b[1;32m     27\u001b[0m     os\u001b[38;5;241m.\u001b[39mpath\u001b[38;5;241m.\u001b[39mabspath(os\u001b[38;5;241m.\u001b[39mpath\u001b[38;5;241m.\u001b[39mjoin(os\u001b[38;5;241m.\u001b[39mgetcwd(), \u001b[38;5;124m\"\u001b[39m\u001b[38;5;124m../..\u001b[39m\u001b[38;5;124m\"\u001b[39m, EXPORT_DIR, \u001b[38;5;124m\"\u001b[39m\u001b[38;5;124mdata.json\u001b[39m\u001b[38;5;124m\"\u001b[39m))\n\u001b[1;32m     28\u001b[0m )\n\u001b[1;32m     31\u001b[0m \u001b[38;5;28;01mclass\u001b[39;00m \u001b[38;5;21;01mItem\u001b[39;00m(typing\u001b[38;5;241m.\u001b[39mTypedDict):\n\u001b[1;32m     32\u001b[0m     len_passed: \u001b[38;5;28mint\u001b[39m\n",
      "File \u001b[0;32m/opt/homebrew/anaconda3/lib/python3.12/site-packages/numpy/lib/npyio.py:427\u001b[0m, in \u001b[0;36mload\u001b[0;34m(file, mmap_mode, allow_pickle, fix_imports, encoding, max_header_size)\u001b[0m\n\u001b[1;32m    425\u001b[0m     own_fid \u001b[38;5;241m=\u001b[39m \u001b[38;5;28;01mFalse\u001b[39;00m\n\u001b[1;32m    426\u001b[0m \u001b[38;5;28;01melse\u001b[39;00m:\n\u001b[0;32m--> 427\u001b[0m     fid \u001b[38;5;241m=\u001b[39m stack\u001b[38;5;241m.\u001b[39menter_context(\u001b[38;5;28mopen\u001b[39m(os_fspath(file), \u001b[38;5;124m\"\u001b[39m\u001b[38;5;124mrb\u001b[39m\u001b[38;5;124m\"\u001b[39m))\n\u001b[1;32m    428\u001b[0m     own_fid \u001b[38;5;241m=\u001b[39m \u001b[38;5;28;01mTrue\u001b[39;00m\n\u001b[1;32m    430\u001b[0m \u001b[38;5;66;03m# Code to distinguish from NumPy binary files and pickles.\u001b[39;00m\n",
      "\u001b[0;31mFileNotFoundError\u001b[0m: [Errno 2] No such file or directory: '/Users/mondo/Workspace/UW-Madison/CS561/project/mondo/bugswarm-data/data/exported/data.json'"
     ]
    }
   ],
   "source": [
    "import os\n",
    "import sys\n",
    "import numpy as np\n",
    "import typing\n",
    "from matplotlib import pyplot as plt\n",
    "\n",
    "module_path = os.path.abspath(os.path.join(\"..\"))\n",
    "if module_path not in sys.path:\n",
    "    sys.path.append(module_path)\n",
    "\n",
    "import downloader.typing.bugswarm as typ_bugswarm\n",
    "from preprocess.cmd.export_json import load_artifact\n",
    "\n",
    "from consts import (\n",
    "    ARTIFACTS_JSON_PATH,\n",
    "    LOG_FILTERED_DIR,\n",
    "    EXPORT_DIR,\n",
    "    PASSED_LOG_NAME,\n",
    "    FAILED_LOG_NAME,\n",
    "    DIFF_NO_CTX_NAME,\n",
    ")\n",
    "\n",
    "art_path = os.path.join(os.getcwd(), \"../..\", ARTIFACTS_JSON_PATH)\n",
    "data_src = load_artifact(art_path)\n",
    "print(f\"Loaded {len(data_src)} tasks\")\n",
    "data_hunks = np.load(\n",
    "    os.path.abspath(os.path.join(os.getcwd(), \"../..\", EXPORT_DIR, \"data.json\"))\n",
    ")\n",
    "\n",
    "\n",
    "class Item(typing.TypedDict):\n",
    "    len_passed: int\n",
    "    len_failed: int\n",
    "    len_filtered_passed: int\n",
    "    len_filtered_failed: int\n",
    "    lang: str\n",
    "    num_hunk: int\n",
    "    len_hunks_avg: float\n",
    "\n",
    "\n",
    "res = {}  # type: dict[str, dict[str, int]]"
   ]
  },
  {
   "cell_type": "code",
   "execution_count": null,
   "metadata": {},
   "outputs": [],
   "source": [
    "# length\n",
    "# length-after filter\n",
    "# length-delta\n",
    "# per type/all\n",
    "# hunk avg length\n",
    "# hunk nums"
   ]
  }
 ],
 "metadata": {
  "kernelspec": {
   "display_name": "base",
   "language": "python",
   "name": "python3"
  },
  "language_info": {
   "codemirror_mode": {
    "name": "ipython",
    "version": 3
   },
   "file_extension": ".py",
   "mimetype": "text/x-python",
   "name": "python",
   "nbconvert_exporter": "python",
   "pygments_lexer": "ipython3",
   "version": "3.12.4"
  }
 },
 "nbformat": 4,
 "nbformat_minor": 2
}
